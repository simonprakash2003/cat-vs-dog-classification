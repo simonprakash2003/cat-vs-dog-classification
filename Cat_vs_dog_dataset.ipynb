{
 "cells": [
  {
   "cell_type": "code",
   "execution_count": 1,
   "id": "13941d2d-349d-4001-98ba-5c6ea632f3dc",
   "metadata": {},
   "outputs": [],
   "source": [
    "import os\n",
    "import pickle\n",
    "import cv2\n",
    "import random\n",
    "import numpy as np\n",
    "import csv"
   ]
  },
  {
   "cell_type": "code",
   "execution_count": 2,
   "id": "bb42e638-0265-4f73-8b71-65d2828f79f4",
   "metadata": {},
   "outputs": [],
   "source": [
    "directory=r'S:\\vit ap\\internship\\Bharathi\\PetImages'\n",
    "\n",
    "category=['Cat','Dog']"
   ]
  },
  {
   "cell_type": "code",
   "execution_count": 10,
   "id": "eac04b7e-3a17-4da3-9eaf-87df1a738bbe",
   "metadata": {},
   "outputs": [],
   "source": [
    "data=[]\n",
    "for i in category:\n",
    "    path=os.path.join(directory,i)\n",
    "    label=category.index(i)\n",
    "    for img in os.listdir(path):\n",
    "        img_path=os.path.join(path,img)\n",
    "        img_arr=cv2.imread(img_path)\n",
    "        if img_arr is None:\n",
    "          continue\n",
    "        else:\n",
    "          img_arr=cv2.resize(img_arr,(160,160))\n",
    "          data.append([img_arr,label])"
   ]
  },
  {
   "cell_type": "code",
   "execution_count": 11,
   "id": "eae264b0-ec45-4ddb-a986-560462503542",
   "metadata": {},
   "outputs": [],
   "source": [
    "random.shuffle(data)"
   ]
  },
  {
   "cell_type": "code",
   "execution_count": 12,
   "id": "42724f07-121a-4ed7-b2ce-4fc7550f38b0",
   "metadata": {},
   "outputs": [],
   "source": [
    "X=[]\n",
    "y=[]\n",
    "\n",
    "for features,labels in data:\n",
    "    X.append(features)\n",
    "    y.append(labels)\n"
   ]
  },
  {
   "cell_type": "code",
   "execution_count": 13,
   "id": "262dd62a-2afd-49ed-b3a3-a17ea94bf71a",
   "metadata": {},
   "outputs": [],
   "source": [
    "X=np.array(X)\n",
    "y=np.array(y)"
   ]
  },
  {
   "cell_type": "code",
   "execution_count": 14,
   "id": "4c864cff-962a-4475-ac34-24441c8a89df",
   "metadata": {},
   "outputs": [],
   "source": [
    "pickle.dump(X,open('X.pkl','wb'))\n",
    "pickle.dump(y,open('y.pkl','wb'))"
   ]
  }
 ],
 "metadata": {
  "kernelspec": {
   "display_name": "Python 3 (ipykernel)",
   "language": "python",
   "name": "python3"
  },
  "language_info": {
   "codemirror_mode": {
    "name": "ipython",
    "version": 3
   },
   "file_extension": ".py",
   "mimetype": "text/x-python",
   "name": "python",
   "nbconvert_exporter": "python",
   "pygments_lexer": "ipython3",
   "version": "3.11.0"
  }
 },
 "nbformat": 4,
 "nbformat_minor": 5
}
